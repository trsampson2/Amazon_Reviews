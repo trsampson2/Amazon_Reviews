{
  "nbformat": 4,
  "nbformat_minor": 0,
  "metadata": {
    "colab": {
      "name": "Vine_Review_Analysis.ipynb",
      "provenance": [],
      "collapsed_sections": [],
      "authorship_tag": "ABX9TyMlYEph0wHZpZBqSxnR0Ifw",
      "include_colab_link": true
    },
    "kernelspec": {
      "name": "python3",
      "display_name": "Python 3"
    },
    "language_info": {
      "name": "python"
    }
  },
  "cells": [
    {
      "cell_type": "markdown",
      "metadata": {
        "id": "view-in-github",
        "colab_type": "text"
      },
      "source": [
        "<a href=\"https://colab.research.google.com/github/trsampson2/Amazon_Reviews/blob/main/Vine_Review_Analysis.ipynb\" target=\"_parent\"><img src=\"https://colab.research.google.com/assets/colab-badge.svg\" alt=\"Open In Colab\"/></a>"
      ]
    },
    {
      "cell_type": "code",
      "source": [
        "!pip install pyspark"
      ],
      "metadata": {
        "colab": {
          "base_uri": "https://localhost:8080/"
        },
        "id": "9yOkZXyuyECv",
        "outputId": "319c1426-6ac5-4f0e-b335-283a81d17fd8"
      },
      "execution_count": null,
      "outputs": [
        {
          "output_type": "stream",
          "name": "stdout",
          "text": [
            "Collecting pyspark\n",
            "  Downloading pyspark-3.2.0.tar.gz (281.3 MB)\n",
            "\u001b[K     |████████████████████████████████| 281.3 MB 40 kB/s \n",
            "\u001b[?25hCollecting py4j==0.10.9.2\n",
            "  Downloading py4j-0.10.9.2-py2.py3-none-any.whl (198 kB)\n",
            "\u001b[K     |████████████████████████████████| 198 kB 42.8 MB/s \n",
            "\u001b[?25hBuilding wheels for collected packages: pyspark\n",
            "  Building wheel for pyspark (setup.py) ... \u001b[?25l\u001b[?25hdone\n",
            "  Created wheel for pyspark: filename=pyspark-3.2.0-py2.py3-none-any.whl size=281805912 sha256=ecce192ebb28f27cd02985352a505e69308d86b0a4f59ab30029d631bdfec038\n",
            "  Stored in directory: /root/.cache/pip/wheels/0b/de/d2/9be5d59d7331c6c2a7c1b6d1a4f463ce107332b1ecd4e80718\n",
            "Successfully built pyspark\n",
            "Installing collected packages: py4j, pyspark\n",
            "Successfully installed py4j-0.10.9.2 pyspark-3.2.0\n"
          ]
        }
      ]
    },
    {
      "cell_type": "code",
      "source": [
        "import os\n",
        "# Find the latest version of spark 3.0 from http://www.apache.org/dist/spark/ and enter as the spark version\n",
        "# For example:\n",
        "# spark_version = 'spark-3.0.3'\n",
        "spark_version = 'spark-3.0.3'\n",
        "os.environ['SPARK_VERSION']=spark_version\n",
        "\n",
        "# Install Spark and Java\n",
        "!apt-get update\n",
        "!apt-get install openjdk-11-jdk-headless -qq > /dev/null\n",
        "!wget -q http://www.apache.org/dist/spark/$SPARK_VERSION/$SPARK_VERSION-bin-hadoop2.7.tgz\n",
        "!tar xf $SPARK_VERSION-bin-hadoop2.7.tgz\n",
        "!pip install -q findspark\n",
        "\n",
        "# Set Environment Variables\n",
        "import os\n",
        "os.environ[\"JAVA_HOME\"] = \"/usr/lib/jvm/java-11-openjdk-amd64\"\n",
        "os.environ[\"SPARK_HOME\"] = f\"/content/{spark_version}-bin-hadoop2.7\"\n",
        "\n",
        "# Start a SparkSession\n",
        "import findspark\n",
        "findspark.init()"
      ],
      "metadata": {
        "colab": {
          "base_uri": "https://localhost:8080/"
        },
        "id": "D-oSRfOYyJ3m",
        "outputId": "8e2cc95f-7ead-4dcf-ca1e-e7146ca5d020"
      },
      "execution_count": null,
      "outputs": [
        {
          "output_type": "stream",
          "name": "stdout",
          "text": [
            "Get:1 https://cloud.r-project.org/bin/linux/ubuntu bionic-cran40/ InRelease [3,626 B]\n",
            "Ign:2 https://developer.download.nvidia.com/compute/cuda/repos/ubuntu1804/x86_64  InRelease\n",
            "Get:3 https://cloud.r-project.org/bin/linux/ubuntu bionic-cran40/ Packages [73.9 kB]\n",
            "Ign:4 https://developer.download.nvidia.com/compute/machine-learning/repos/ubuntu1804/x86_64  InRelease\n",
            "Get:5 https://developer.download.nvidia.com/compute/cuda/repos/ubuntu1804/x86_64  Release [696 B]\n",
            "Hit:6 https://developer.download.nvidia.com/compute/machine-learning/repos/ubuntu1804/x86_64  Release\n",
            "Get:7 https://developer.download.nvidia.com/compute/cuda/repos/ubuntu1804/x86_64  Release.gpg [836 B]\n",
            "Get:8 http://ppa.launchpad.net/c2d4u.team/c2d4u4.0+/ubuntu bionic InRelease [15.9 kB]\n",
            "Hit:9 http://archive.ubuntu.com/ubuntu bionic InRelease\n",
            "Get:11 http://archive.ubuntu.com/ubuntu bionic-updates InRelease [88.7 kB]\n",
            "Get:12 http://security.ubuntu.com/ubuntu bionic-security InRelease [88.7 kB]\n",
            "Get:13 https://developer.download.nvidia.com/compute/cuda/repos/ubuntu1804/x86_64  Packages [833 kB]\n",
            "Hit:14 http://ppa.launchpad.net/cran/libgit2/ubuntu bionic InRelease\n",
            "Get:15 http://archive.ubuntu.com/ubuntu bionic-backports InRelease [74.6 kB]\n",
            "Get:16 http://ppa.launchpad.net/deadsnakes/ppa/ubuntu bionic InRelease [15.9 kB]\n",
            "Get:17 http://security.ubuntu.com/ubuntu bionic-security/universe amd64 Packages [1,452 kB]\n",
            "Get:18 http://archive.ubuntu.com/ubuntu bionic-updates/main amd64 Packages [2,898 kB]\n",
            "Hit:19 http://ppa.launchpad.net/graphics-drivers/ppa/ubuntu bionic InRelease\n",
            "Get:20 http://ppa.launchpad.net/c2d4u.team/c2d4u4.0+/ubuntu bionic/main Sources [1,821 kB]\n",
            "Get:21 http://security.ubuntu.com/ubuntu bionic-security/restricted amd64 Packages [691 kB]\n",
            "Get:22 http://security.ubuntu.com/ubuntu bionic-security/main amd64 Packages [2,461 kB]\n",
            "Get:23 http://archive.ubuntu.com/ubuntu bionic-updates/universe amd64 Packages [2,230 kB]\n",
            "Get:24 http://archive.ubuntu.com/ubuntu bionic-backports/universe amd64 Packages [12.6 kB]\n",
            "Get:25 http://archive.ubuntu.com/ubuntu bionic-backports/main amd64 Packages [11.6 kB]\n",
            "Get:26 http://ppa.launchpad.net/c2d4u.team/c2d4u4.0+/ubuntu bionic/main amd64 Packages [934 kB]\n",
            "Get:27 http://ppa.launchpad.net/deadsnakes/ppa/ubuntu bionic/main amd64 Packages [45.3 kB]\n",
            "Fetched 13.8 MB in 8s (1,806 kB/s)\n",
            "Reading package lists... Done\n"
          ]
        }
      ]
    },
    {
      "cell_type": "code",
      "execution_count": null,
      "metadata": {
        "id": "4oOsHN9dW2Rq"
      },
      "outputs": [],
      "source": [
        "# Start Spark session\n",
        "from pyspark.sql import SparkSession\n",
        "spark = SparkSession.builder.appName(\"Vine_Filter\").getOrCreate()"
      ]
    },
    {
      "cell_type": "code",
      "source": [
        "from pyspark import SparkFiles\n",
        "url = \"https://s3.amazonaws.com/amazon-reviews-pds/tsv/amazon_reviews_us_Shoes_v1_00.tsv.gz\"\n",
        "spark.sparkContext.addFile(url)\n",
        "df = spark.read.option(\"encoding\", \"UTF-8\").csv(SparkFiles.get(\"\"), sep=\"\\t\", header=True, inferSchema=True)\n",
        "df.show()"
      ],
      "metadata": {
        "colab": {
          "base_uri": "https://localhost:8080/"
        },
        "id": "yUz6hV1TyaeS",
        "outputId": "fb74499c-dc05-4f59-f083-d02f28d98aa6"
      },
      "execution_count": null,
      "outputs": [
        {
          "output_type": "stream",
          "name": "stdout",
          "text": [
            "+-----------+-----------+--------------+----------+--------------+--------------------+----------------+-----------+-------------+-----------+----+-----------------+--------------------+--------------------+-----------+\n",
            "|marketplace|customer_id|     review_id|product_id|product_parent|       product_title|product_category|star_rating|helpful_votes|total_votes|vine|verified_purchase|     review_headline|         review_body|review_date|\n",
            "+-----------+-----------+--------------+----------+--------------+--------------------+----------------+-----------+-------------+-----------+----+-----------------+--------------------+--------------------+-----------+\n",
            "|         US|   18069663|R3P2HIOQCIN5ZU|B000XB31C0|     265024781|Minnetonka Men's ...|           Shoes|          1|            0|          0|   N|                Y|                   .|Do not buy: reall...| 2015-08-31|\n",
            "|         US|   16251825|R12VVR0WH5Q24V|B00CFYZH5W|     259035853|Teva Men's Pajaro...|           Shoes|          5|            0|          0|   N|                Y|     super flip flop|provides great cu...| 2015-08-31|\n",
            "|         US|   20381037| RNCCKB6TV5EEF|B00S8JNN3Q|     666066660|Anne Klein Perfec...|           Shoes|          4|            0|          0|   N|                Y| Great clutch purse!|It's perfect if y...| 2015-08-31|\n",
            "|         US|     108364|R2NZXYIVCGB13W|B00XFBPOQG|     448483263|adidas Men's 10K ...|           Shoes|          5|            0|          6|   N|                Y|              Badass|  Getting what u see| 2015-08-31|\n",
            "|         US|   45449350|R2EQ1TG9IT3OEQ|B00SW64Y9W|       7853171|OverBling Sneaker...|           Shoes|          3|            0|          0|   N|                Y|         Three Stars|               small| 2015-08-31|\n",
            "|         US|   19324665|R1WXA9JSC2H1U1|B011F9E6LI|      14311457|MESSI 15.3 FG/AG ...|           Shoes|          5|            1|          1|   N|                Y|          Five Stars|My 13 year old so...| 2015-08-31|\n",
            "|         US|   50073594|R12ENYLFGGNWRV|B00HAUP1OI|     264821602|Hoka One One Men'...|           Shoes|          5|            1|          1|   N|                Y|Finally, some cus...|Ok, I have been s...| 2015-08-31|\n",
            "|         US|   21706057|R2R07E5PNXEUO5|B00L1RKOKW|     767118055|Olukai Nohea Mesh...|           Shoes|          4|            0|          0|   N|                Y|good deal, but ha...|I went a full siz...| 2015-08-31|\n",
            "|         US|   13708216|R27BA52AKWMWN3|B005WA9MSE|     813856438|Carolina Mens 6\" ...|           Shoes|          5|            0|          0|   N|                Y|... would have to...|I would have to s...| 2015-08-31|\n",
            "|         US|   40542649| RLF8DOID2KD5O|B00BEYQI5C|     661491213|Alegria Women's S...|           Shoes|          3|            0|          0|   N|                Y|           Too small|The size is misle...| 2015-08-31|\n",
            "|         US|   13409446|R369CEXHXHC6NQ|B00EYAFTCQ|     332158165|Naturalizer Women...|           Shoes|          5|            0|          0|   N|                Y|          Five Stars|These shoes are v...| 2015-08-31|\n",
            "|         US|    9451727|R171PPIJXFONVI|B00I0QHY32|      49243908|Forever Link Wome...|           Shoes|          5|            0|          0|   N|                Y|          Five Stars|I love these sand...| 2015-08-31|\n",
            "|         US|     193731|R2JDNM8F2P06FU|B010FZZKYA|     161497902|Versace Collectio...|           Shoes|          4|            1|          1|   N|                Y|          Four Stars|Good quality shoe...| 2015-08-31|\n",
            "|         US|   34798634|R2W977FO4M97XT|B00V8B30K2|     759958795|Twisted Girl's Ch...|           Shoes|          5|            0|          1|   N|                Y|Good shoes, comfo...|My daughter reall...| 2015-08-31|\n",
            "|         US|   37235551|R3AM24QPLI28UY|B00LAVB1TC|     910150896|Travel Smart Hand...|           Shoes|          2|            1|          2|   N|                Y|           Two Stars|         It's okay .| 2015-08-31|\n",
            "|         US|   27081399| REDVXSFYVNT5T|B003C1P8B0|     762792587|Saucony Originals...|           Shoes|          5|            0|          0|   N|                Y|    Love these shoes|Love these shoes!...| 2015-08-31|\n",
            "|         US|     120678|R14AIIK7D6ENDZ|B000W3UL7W|     123724495|Dr. Marten's Wome...|           Shoes|          5|            0|          0|   N|                Y|          Five Stars|                Good| 2015-08-31|\n",
            "|         US|   22272389|R3B1NURKMCVAL1|B00LX65PQO|     848850234|Skechers Performa...|           Shoes|          3|            2|          2|   N|                Y|         Three Stars|I like the go wal...| 2015-08-31|\n",
            "|         US|   19584241|R14Q1GZGV10IMX|B00BEE7N3I|     211637196|Hi-Tec Kid's Nepa...|           Shoes|          4|            0|          0|   N|                Y|          Four Stars|Kids love them fo...| 2015-08-31|\n",
            "|         US|   12334573| R9BHBB06QD6TM|B008NCHMBW|     138572112|Foot Sox Original...|           Shoes|          1|            2|          2|   N|                Y|Tissue paper is t...|Tissue paper is t...| 2015-08-31|\n",
            "+-----------+-----------+--------------+----------+--------------+--------------------+----------------+-----------+-------------+-----------+----+-----------------+--------------------+--------------------+-----------+\n",
            "only showing top 20 rows\n",
            "\n"
          ]
        }
      ]
    },
    {
      "cell_type": "code",
      "source": [
        "# Create the vine_table. DataFrame\n",
        "vine_df = df.select([\"review_id\", \"star_rating\", \"helpful_votes\", \"total_votes\", \"vine\", \"verified_purchase\"])\n",
        "\n",
        "vine_df.show()"
      ],
      "metadata": {
        "colab": {
          "base_uri": "https://localhost:8080/"
        },
        "id": "ymbQJPXAyn4M",
        "outputId": "b6dbe95b-d1e3-42fd-faaa-50bf26132b0e"
      },
      "execution_count": null,
      "outputs": [
        {
          "output_type": "stream",
          "name": "stdout",
          "text": [
            "+--------------+-----------+-------------+-----------+----+-----------------+\n",
            "|     review_id|star_rating|helpful_votes|total_votes|vine|verified_purchase|\n",
            "+--------------+-----------+-------------+-----------+----+-----------------+\n",
            "|R3P2HIOQCIN5ZU|          1|            0|          0|   N|                Y|\n",
            "|R12VVR0WH5Q24V|          5|            0|          0|   N|                Y|\n",
            "| RNCCKB6TV5EEF|          4|            0|          0|   N|                Y|\n",
            "|R2NZXYIVCGB13W|          5|            0|          6|   N|                Y|\n",
            "|R2EQ1TG9IT3OEQ|          3|            0|          0|   N|                Y|\n",
            "|R1WXA9JSC2H1U1|          5|            1|          1|   N|                Y|\n",
            "|R12ENYLFGGNWRV|          5|            1|          1|   N|                Y|\n",
            "|R2R07E5PNXEUO5|          4|            0|          0|   N|                Y|\n",
            "|R27BA52AKWMWN3|          5|            0|          0|   N|                Y|\n",
            "| RLF8DOID2KD5O|          3|            0|          0|   N|                Y|\n",
            "|R369CEXHXHC6NQ|          5|            0|          0|   N|                Y|\n",
            "|R171PPIJXFONVI|          5|            0|          0|   N|                Y|\n",
            "|R2JDNM8F2P06FU|          4|            1|          1|   N|                Y|\n",
            "|R2W977FO4M97XT|          5|            0|          1|   N|                Y|\n",
            "|R3AM24QPLI28UY|          2|            1|          2|   N|                Y|\n",
            "| REDVXSFYVNT5T|          5|            0|          0|   N|                Y|\n",
            "|R14AIIK7D6ENDZ|          5|            0|          0|   N|                Y|\n",
            "|R3B1NURKMCVAL1|          3|            2|          2|   N|                Y|\n",
            "|R14Q1GZGV10IMX|          4|            0|          0|   N|                Y|\n",
            "| R9BHBB06QD6TM|          1|            2|          2|   N|                Y|\n",
            "+--------------+-----------+-------------+-----------+----+-----------------+\n",
            "only showing top 20 rows\n",
            "\n"
          ]
        }
      ]
    },
    {
      "cell_type": "code",
      "source": [
        "# Creates a dataframe with total votes equal to or greater than 20\n",
        "total_votes_df = df.filter(\"total_votes>=20\")\n",
        "\n",
        "total_votes_df.show()"
      ],
      "metadata": {
        "colab": {
          "base_uri": "https://localhost:8080/"
        },
        "id": "zw-GB-KbzlVX",
        "outputId": "460aace0-f56c-4ac2-f1c9-ba5d2ecde4e9"
      },
      "execution_count": null,
      "outputs": [
        {
          "output_type": "stream",
          "name": "stdout",
          "text": [
            "+-----------+-----------+--------------+----------+--------------+--------------------+----------------+-----------+-------------+-----------+----+-----------------+--------------------+--------------------+-----------+\n",
            "|marketplace|customer_id|     review_id|product_id|product_parent|       product_title|product_category|star_rating|helpful_votes|total_votes|vine|verified_purchase|     review_headline|         review_body|review_date|\n",
            "+-----------+-----------+--------------+----------+--------------+--------------------+----------------+-----------+-------------+-----------+----+-----------------+--------------------+--------------------+-----------+\n",
            "|         US|   52181093|R37F42INKX7L9K|B00TQ6L9TK|     316459194|Travelon Converti...|           Shoes|          5|           45|         49|   N|                Y|Hermione Granger'...|I've been trying ...| 2015-08-31|\n",
            "|         US|   25865070|R2EHKYNEP8WVSR|B00UJ6B33I|     962947795|Hoxis Tassel Faux...|           Shoes|          5|           25|         25|   N|                Y|          Five Stars|Perfect size purs...| 2015-08-31|\n",
            "|         US|   43547721| RXOS7BHID0UHL|B010KK08LU|     128319757|Adidas Yeezy Boos...|           Shoes|          5|           16|         27|   N|                N|Had to sell my do...|I have always wan...| 2015-08-31|\n",
            "|         US|   48198529|R33HHGFPB403GM|B009K1WFAI|     875585913|Gucci GG1008 Eyeg...|           Shoes|          5|           19|         21|   N|                Y|          Five Stars|Love at first sig...| 2015-08-31|\n",
            "|         US|    6650445| RY9O9XNLP464N|B0117P7DV0|     445316900|KENSBUY Men's Lig...|           Shoes|          2|           19|         22|   N|                Y|    Can't Wear These|So small that I c...| 2015-08-31|\n",
            "|         US|   39742745|R2VP11C28JAEZF|B00S8CF9OE|     484693340|Merrell Women's M...|           Shoes|          5|           30|         30|   N|                Y|               Love!|These are minimal...| 2015-08-31|\n",
            "|         US|    3815095|R1TXGR1HA2M3P3|B00FNHMWG0|     853723688|Breckelles Women ...|           Shoes|          5|           28|         29|   N|                Y|I love them. I re...|I love them.<br /...| 2015-08-31|\n",
            "|         US|   51299002| R6OD85TMEMHQQ|B00KZJ0W4K|     813787483|Merrell Women's A...|           Shoes|          5|           28|         28|   N|                Y|Well made, modera...|After literally h...| 2015-08-31|\n",
            "|         US|    4645804|R1G4PAJXP3FTN7|B00LHUF7KA|      72964553|Five Ten Men's Fr...|           Shoes|          2|           43|         51|   N|                Y|Save your money p...|The quality is le...| 2015-08-31|\n",
            "|         US|    4261403|R2P2S8UGUMCOLX|B00WDWHHR2|     485655175|Betsey Johnson Te...|           Shoes|          5|           21|         22|   N|                Y|   I love this purse|I love this purse...| 2015-08-31|\n",
            "|         US|     108480| RBTQKXGJ9RP7C|B00XTNCOFO|     380758921|Micom 2017 Simple...|           Shoes|          1|           33|         33|   N|                Y|This purse should...|Let down!<br />I ...| 2015-08-31|\n",
            "|         US|   14892488|R342L93CXGDZO5|B00ZY3U7SS|      61663457|Franco Sarto Wome...|           Shoes|          2|           73|         76|   N|                Y|           Returning|&#34;Imported&#34...| 2015-08-31|\n",
            "|         US|   12268557|R31Z97KFD4HMNF|B00SK7TJ52|      47177433|Hot Chocolate Des...|           Shoes|          3|           23|         26|   N|                Y|I wish they would...|I bought 2 pair o...| 2015-08-31|\n",
            "|         US|   35626881|R2NDB7EQLYK87A|B00QH47Y34|     316874970|Brooks Womens Gho...|           Shoes|          5|           44|         46|   N|                Y|Not just for runn...|I tend bar and ha...| 2015-08-31|\n",
            "|         US|   51216855|R1C0W0OSBCVXC2|B00SNEQGW6|     182024722|FitFlop Women's S...|           Shoes|          1|           45|         46|   N|                Y|      Not well built|I bought these fl...| 2015-08-31|\n",
            "|         US|   10262456|R154Q41ID7FTFC|B010PC389M|     446355055|Kattee Women's Pu...|           Shoes|          5|           24|         26|   N|                Y|Fabulous silver m...|LOVE this leather...| 2015-08-31|\n",
            "|         US|   42205771|R3GFX9ZNZ0T3TA|B00XGH7SMM|     891843405|Hazel's Star Quad...|           Shoes|          1|           35|         35|   N|                Y|Shoe came apart o...|One shoe fell apa...| 2015-08-31|\n",
            "|         US|    3136659|R2H8MH0N2IZKMY|B00QTD5SQI|     229380469|Inov-8 Men's Terr...|           Shoes|          5|           22|         23|   N|                Y|  Simply the Best!!!|AWESOME shoes. Ra...| 2015-08-31|\n",
            "|         US|    2532037|R1MYE8WQ3812L8|B0014F61LM|     106800701|Kipling Seoul Sol...|           Shoes|          5|           17|         20|   N|                Y|          Five Stars|                null| 2015-08-31|\n",
            "|         US|    1082025| RYSL8MU2858GB|B00QM5BY8O|     377048469|Skechers for Work...|           Shoes|          5|           71|         73|   N|                Y|best nonslip shoe...|I work in a resta...| 2015-08-31|\n",
            "+-----------+-----------+--------------+----------+--------------+--------------------+----------------+-----------+-------------+-----------+----+-----------------+--------------------+--------------------+-----------+\n",
            "only showing top 20 rows\n",
            "\n"
          ]
        }
      ]
    },
    {
      "cell_type": "code",
      "source": [
        "# Helpful votes / total votes\n",
        "helpful_votes_df = total_votes_df.filter((total_votes_df.helpful_votes /total_votes_df.total_votes)>= 0.5)\n",
        "\n",
        "helpful_votes_df.show()"
      ],
      "metadata": {
        "colab": {
          "base_uri": "https://localhost:8080/"
        },
        "id": "Sj_9DHSh060A",
        "outputId": "b3bc0717-296c-4a7a-ab9a-7b0b3c686b7e"
      },
      "execution_count": null,
      "outputs": [
        {
          "output_type": "stream",
          "name": "stdout",
          "text": [
            "+-----------+-----------+--------------+----------+--------------+--------------------+----------------+-----------+-------------+-----------+----+-----------------+--------------------+--------------------+-----------+\n",
            "|marketplace|customer_id|     review_id|product_id|product_parent|       product_title|product_category|star_rating|helpful_votes|total_votes|vine|verified_purchase|     review_headline|         review_body|review_date|\n",
            "+-----------+-----------+--------------+----------+--------------+--------------------+----------------+-----------+-------------+-----------+----+-----------------+--------------------+--------------------+-----------+\n",
            "|         US|   52181093|R37F42INKX7L9K|B00TQ6L9TK|     316459194|Travelon Converti...|           Shoes|          5|           45|         49|   N|                Y|Hermione Granger'...|I've been trying ...| 2015-08-31|\n",
            "|         US|   25865070|R2EHKYNEP8WVSR|B00UJ6B33I|     962947795|Hoxis Tassel Faux...|           Shoes|          5|           25|         25|   N|                Y|          Five Stars|Perfect size purs...| 2015-08-31|\n",
            "|         US|   43547721| RXOS7BHID0UHL|B010KK08LU|     128319757|Adidas Yeezy Boos...|           Shoes|          5|           16|         27|   N|                N|Had to sell my do...|I have always wan...| 2015-08-31|\n",
            "|         US|   48198529|R33HHGFPB403GM|B009K1WFAI|     875585913|Gucci GG1008 Eyeg...|           Shoes|          5|           19|         21|   N|                Y|          Five Stars|Love at first sig...| 2015-08-31|\n",
            "|         US|    6650445| RY9O9XNLP464N|B0117P7DV0|     445316900|KENSBUY Men's Lig...|           Shoes|          2|           19|         22|   N|                Y|    Can't Wear These|So small that I c...| 2015-08-31|\n",
            "|         US|   39742745|R2VP11C28JAEZF|B00S8CF9OE|     484693340|Merrell Women's M...|           Shoes|          5|           30|         30|   N|                Y|               Love!|These are minimal...| 2015-08-31|\n",
            "|         US|    3815095|R1TXGR1HA2M3P3|B00FNHMWG0|     853723688|Breckelles Women ...|           Shoes|          5|           28|         29|   N|                Y|I love them. I re...|I love them.<br /...| 2015-08-31|\n",
            "|         US|   51299002| R6OD85TMEMHQQ|B00KZJ0W4K|     813787483|Merrell Women's A...|           Shoes|          5|           28|         28|   N|                Y|Well made, modera...|After literally h...| 2015-08-31|\n",
            "|         US|    4645804|R1G4PAJXP3FTN7|B00LHUF7KA|      72964553|Five Ten Men's Fr...|           Shoes|          2|           43|         51|   N|                Y|Save your money p...|The quality is le...| 2015-08-31|\n",
            "|         US|    4261403|R2P2S8UGUMCOLX|B00WDWHHR2|     485655175|Betsey Johnson Te...|           Shoes|          5|           21|         22|   N|                Y|   I love this purse|I love this purse...| 2015-08-31|\n",
            "|         US|     108480| RBTQKXGJ9RP7C|B00XTNCOFO|     380758921|Micom 2017 Simple...|           Shoes|          1|           33|         33|   N|                Y|This purse should...|Let down!<br />I ...| 2015-08-31|\n",
            "|         US|   14892488|R342L93CXGDZO5|B00ZY3U7SS|      61663457|Franco Sarto Wome...|           Shoes|          2|           73|         76|   N|                Y|           Returning|&#34;Imported&#34...| 2015-08-31|\n",
            "|         US|   12268557|R31Z97KFD4HMNF|B00SK7TJ52|      47177433|Hot Chocolate Des...|           Shoes|          3|           23|         26|   N|                Y|I wish they would...|I bought 2 pair o...| 2015-08-31|\n",
            "|         US|   35626881|R2NDB7EQLYK87A|B00QH47Y34|     316874970|Brooks Womens Gho...|           Shoes|          5|           44|         46|   N|                Y|Not just for runn...|I tend bar and ha...| 2015-08-31|\n",
            "|         US|   51216855|R1C0W0OSBCVXC2|B00SNEQGW6|     182024722|FitFlop Women's S...|           Shoes|          1|           45|         46|   N|                Y|      Not well built|I bought these fl...| 2015-08-31|\n",
            "|         US|   10262456|R154Q41ID7FTFC|B010PC389M|     446355055|Kattee Women's Pu...|           Shoes|          5|           24|         26|   N|                Y|Fabulous silver m...|LOVE this leather...| 2015-08-31|\n",
            "|         US|   42205771|R3GFX9ZNZ0T3TA|B00XGH7SMM|     891843405|Hazel's Star Quad...|           Shoes|          1|           35|         35|   N|                Y|Shoe came apart o...|One shoe fell apa...| 2015-08-31|\n",
            "|         US|    3136659|R2H8MH0N2IZKMY|B00QTD5SQI|     229380469|Inov-8 Men's Terr...|           Shoes|          5|           22|         23|   N|                Y|  Simply the Best!!!|AWESOME shoes. Ra...| 2015-08-31|\n",
            "|         US|    2532037|R1MYE8WQ3812L8|B0014F61LM|     106800701|Kipling Seoul Sol...|           Shoes|          5|           17|         20|   N|                Y|          Five Stars|                null| 2015-08-31|\n",
            "|         US|    1082025| RYSL8MU2858GB|B00QM5BY8O|     377048469|Skechers for Work...|           Shoes|          5|           71|         73|   N|                Y|best nonslip shoe...|I work in a resta...| 2015-08-31|\n",
            "+-----------+-----------+--------------+----------+--------------+--------------------+----------------+-----------+-------------+-----------+----+-----------------+--------------------+--------------------+-----------+\n",
            "only showing top 20 rows\n",
            "\n"
          ]
        }
      ]
    },
    {
      "cell_type": "code",
      "source": [
        "# Retrieve all the rows where the review was part of the Vine program\n",
        "paid_df = helpful_votes_df.filter(helpful_votes_df.vine == \"Y\")\n",
        "\n",
        "paid_df.show()"
      ],
      "metadata": {
        "colab": {
          "base_uri": "https://localhost:8080/"
        },
        "id": "erBvopZi3VdF",
        "outputId": "c7365e97-45a5-46e5-90a1-527997775211"
      },
      "execution_count": null,
      "outputs": [
        {
          "output_type": "stream",
          "name": "stdout",
          "text": [
            "+-----------+-----------+--------------+----------+--------------+--------------------+----------------+-----------+-------------+-----------+----+-----------------+--------------------+--------------------+-----------+\n",
            "|marketplace|customer_id|     review_id|product_id|product_parent|       product_title|product_category|star_rating|helpful_votes|total_votes|vine|verified_purchase|     review_headline|         review_body|review_date|\n",
            "+-----------+-----------+--------------+----------+--------------+--------------------+----------------+-----------+-------------+-----------+----+-----------------+--------------------+--------------------+-----------+\n",
            "|         US|   17481726|R2N45ZKRRZS856|B00R9LA030|     587914328|New Balance Women...|           Shoes|          5|           21|         22|   Y|                N|Lightweight, Plen...|* While I've got ...| 2015-07-19|\n",
            "|         US|   34395794| R5OMLMK13A8NS|B00R9LA030|     587914328|New Balance Women...|           Shoes|          5|           34|         38|   Y|                N|Light, super-comf...|I am an inveterat...| 2015-07-13|\n",
            "|         US|   20151467|R2MPEQ4SPTEQNS|B00M15DG80|     638946346|Timberland Advent...|           Shoes|          4|          180|        184|   Y|                N|Good middle groun...|This is a pre-sum...| 2015-03-07|\n",
            "|         US|   51744990| RIR0D3KJ0CQ31|B00KQ2VQDC|     646945894|New Balance Women...|           Shoes|          4|           21|         21|   Y|                N|Very Good Neutral...|I am a long-time ...| 2015-02-07|\n",
            "|         US|   21155796|R1SPWJDHUWWC5E|B00LNN1EZ8|     257160693|New Balance Women...|           Shoes|          5|           88|         98|   Y|                N|NB Trainers desig...|These trainers ar...| 2015-02-06|\n",
            "|         US|   34030399|R1X6M5XA3FT98W|B00KQ57KWK|     615890400|New Balance Women...|           Shoes|          5|           24|         26|   Y|                N|Review from an ac...|I received a comp...| 2015-02-04|\n",
            "|         US|   52807614|R37VCW6HA0Z72T|B00NHUVTPA|     446678543|Foster Grant Zera...|           Shoes|          5|           27|         28|   Y|                N|New favorite read...|My wife likes to ...| 2015-01-31|\n",
            "|         US|   47694591|R2XRYNV2SY3ZKL|B00NHUW1NE|     789124161|Foster Grant Char...|           Shoes|          5|           53|         56|   Y|                N|I Can Not Pry The...|I opened up the p...| 2015-01-27|\n",
            "|         US|   45889291|R1Y93KWKAX1P5N|B00NHUVN10|     733135792|Foster Grant Sawy...|           Shoes|          2|           26|         31|   Y|                N|Same deal as othe...|I'm 47, and until...| 2015-01-23|\n",
            "|         US|   52195752|R2QVTDYYLTP8SL|B00NHUVFGS|     221663141|Foster Grant Cona...|           Shoes|          5|           21|         24|   Y|                N|        I Love These|Having recently l...| 2015-01-23|\n",
            "|         US|   50909644|R3KOK2SH39BZU1|B00NHUVF18|     221663141|Foster Grant Cona...|           Shoes|          3|           94|         96|   Y|                N|Non prescription ...|I have a desk fil...| 2015-01-23|\n",
            "|         US|   52464466|R2VOM73EHLPXJW|B00NHUVFGS|     221663141|Foster Grant Cona...|           Shoes|          4|           35|         38|   Y|                N|Surprisingly nice...|These are surpris...| 2015-01-22|\n",
            "|         US|   38066245|R3SEZS7BZEC69Y|B00NHUVTSM|     446678543|Foster Grant Zera...|           Shoes|          5|           16|         20|   Y|                N|These work as goo...|I was very surpri...| 2015-01-21|\n",
            "|         US|   33172089|R1MJ5J272V19O6|B00NHUW1UW|     789124161|Foster Grant Char...|           Shoes|          4|           49|         51|   Y|                N|Be aware of the l...|Okay. I know. Yes...| 2015-01-21|\n",
            "|         US|   50892063|R3A7BQX1JDKOM5|B00NHUV8SI|     968516609|Foster Grant Wes ...|           Shoes|          4|           20|         20|   Y|                N|My prescription g...|I've been looking...| 2015-01-18|\n",
            "|         US|   52637443|R1307JMPUEQXOW|B00M32FLL6|     329154367|Mizuno Women's Wa...|           Shoes|          5|           31|         35|   Y|                N|Great Shoes- but ...|These are great s...| 2014-12-27|\n",
            "|         US|   53058739| RXV0SDXE5B15T|B00IF3BG6G|     978028219|Cole Haan Women's...|           Shoes|          2|           39|         42|   Y|                N|Should have bette...|First the good: T...| 2014-12-09|\n",
            "|         US|   50145419| RBMDYE7LUH9FI|B00D8HXHYI|      82299308|New Balance Women...|           Shoes|          5|           26|         32|   Y|                N|An eye catching s...|I'm in so love wi...| 2014-07-15|\n",
            "|         US|   13303929|R1N4W961QV59BV|B00DOE9QFY|     877581216|New Balance Women...|           Shoes|          5|           25|         34|   Y|                N|A review from Boo...|The first thing t...| 2014-07-01|\n",
            "|         US|   50828717|R11XKHFS4KQS3Z|B00DOEA73O|     877581216|New Balance Women...|           Shoes|          4|          205|        211|   Y|                N|Nice style but to...|I am a fan of New...| 2014-06-30|\n",
            "+-----------+-----------+--------------+----------+--------------+--------------------+----------------+-----------+-------------+-----------+----+-----------------+--------------------+--------------------+-----------+\n",
            "only showing top 20 rows\n",
            "\n"
          ]
        }
      ]
    },
    {
      "cell_type": "code",
      "source": [
        "# Retrieve all rows where the review was not part of the Vine program\n",
        "unpaid_df = helpful_votes_df.filter(helpful_votes_df.vine == \"N\")\n",
        "\n",
        "unpaid_df.show()"
      ],
      "metadata": {
        "colab": {
          "base_uri": "https://localhost:8080/"
        },
        "id": "6tL29D7n4Htm",
        "outputId": "b3916f63-1521-424d-cb5d-227586ff9b27"
      },
      "execution_count": null,
      "outputs": [
        {
          "output_type": "stream",
          "name": "stdout",
          "text": [
            "+-----------+-----------+--------------+----------+--------------+--------------------+----------------+-----------+-------------+-----------+----+-----------------+--------------------+--------------------+-----------+\n",
            "|marketplace|customer_id|     review_id|product_id|product_parent|       product_title|product_category|star_rating|helpful_votes|total_votes|vine|verified_purchase|     review_headline|         review_body|review_date|\n",
            "+-----------+-----------+--------------+----------+--------------+--------------------+----------------+-----------+-------------+-----------+----+-----------------+--------------------+--------------------+-----------+\n",
            "|         US|   52181093|R37F42INKX7L9K|B00TQ6L9TK|     316459194|Travelon Converti...|           Shoes|          5|           45|         49|   N|                Y|Hermione Granger'...|I've been trying ...| 2015-08-31|\n",
            "|         US|   25865070|R2EHKYNEP8WVSR|B00UJ6B33I|     962947795|Hoxis Tassel Faux...|           Shoes|          5|           25|         25|   N|                Y|          Five Stars|Perfect size purs...| 2015-08-31|\n",
            "|         US|   43547721| RXOS7BHID0UHL|B010KK08LU|     128319757|Adidas Yeezy Boos...|           Shoes|          5|           16|         27|   N|                N|Had to sell my do...|I have always wan...| 2015-08-31|\n",
            "|         US|   48198529|R33HHGFPB403GM|B009K1WFAI|     875585913|Gucci GG1008 Eyeg...|           Shoes|          5|           19|         21|   N|                Y|          Five Stars|Love at first sig...| 2015-08-31|\n",
            "|         US|    6650445| RY9O9XNLP464N|B0117P7DV0|     445316900|KENSBUY Men's Lig...|           Shoes|          2|           19|         22|   N|                Y|    Can't Wear These|So small that I c...| 2015-08-31|\n",
            "|         US|   39742745|R2VP11C28JAEZF|B00S8CF9OE|     484693340|Merrell Women's M...|           Shoes|          5|           30|         30|   N|                Y|               Love!|These are minimal...| 2015-08-31|\n",
            "|         US|    3815095|R1TXGR1HA2M3P3|B00FNHMWG0|     853723688|Breckelles Women ...|           Shoes|          5|           28|         29|   N|                Y|I love them. I re...|I love them.<br /...| 2015-08-31|\n",
            "|         US|   51299002| R6OD85TMEMHQQ|B00KZJ0W4K|     813787483|Merrell Women's A...|           Shoes|          5|           28|         28|   N|                Y|Well made, modera...|After literally h...| 2015-08-31|\n",
            "|         US|    4645804|R1G4PAJXP3FTN7|B00LHUF7KA|      72964553|Five Ten Men's Fr...|           Shoes|          2|           43|         51|   N|                Y|Save your money p...|The quality is le...| 2015-08-31|\n",
            "|         US|    4261403|R2P2S8UGUMCOLX|B00WDWHHR2|     485655175|Betsey Johnson Te...|           Shoes|          5|           21|         22|   N|                Y|   I love this purse|I love this purse...| 2015-08-31|\n",
            "|         US|     108480| RBTQKXGJ9RP7C|B00XTNCOFO|     380758921|Micom 2017 Simple...|           Shoes|          1|           33|         33|   N|                Y|This purse should...|Let down!<br />I ...| 2015-08-31|\n",
            "|         US|   14892488|R342L93CXGDZO5|B00ZY3U7SS|      61663457|Franco Sarto Wome...|           Shoes|          2|           73|         76|   N|                Y|           Returning|&#34;Imported&#34...| 2015-08-31|\n",
            "|         US|   12268557|R31Z97KFD4HMNF|B00SK7TJ52|      47177433|Hot Chocolate Des...|           Shoes|          3|           23|         26|   N|                Y|I wish they would...|I bought 2 pair o...| 2015-08-31|\n",
            "|         US|   35626881|R2NDB7EQLYK87A|B00QH47Y34|     316874970|Brooks Womens Gho...|           Shoes|          5|           44|         46|   N|                Y|Not just for runn...|I tend bar and ha...| 2015-08-31|\n",
            "|         US|   51216855|R1C0W0OSBCVXC2|B00SNEQGW6|     182024722|FitFlop Women's S...|           Shoes|          1|           45|         46|   N|                Y|      Not well built|I bought these fl...| 2015-08-31|\n",
            "|         US|   10262456|R154Q41ID7FTFC|B010PC389M|     446355055|Kattee Women's Pu...|           Shoes|          5|           24|         26|   N|                Y|Fabulous silver m...|LOVE this leather...| 2015-08-31|\n",
            "|         US|   42205771|R3GFX9ZNZ0T3TA|B00XGH7SMM|     891843405|Hazel's Star Quad...|           Shoes|          1|           35|         35|   N|                Y|Shoe came apart o...|One shoe fell apa...| 2015-08-31|\n",
            "|         US|    3136659|R2H8MH0N2IZKMY|B00QTD5SQI|     229380469|Inov-8 Men's Terr...|           Shoes|          5|           22|         23|   N|                Y|  Simply the Best!!!|AWESOME shoes. Ra...| 2015-08-31|\n",
            "|         US|    2532037|R1MYE8WQ3812L8|B0014F61LM|     106800701|Kipling Seoul Sol...|           Shoes|          5|           17|         20|   N|                Y|          Five Stars|                null| 2015-08-31|\n",
            "|         US|    1082025| RYSL8MU2858GB|B00QM5BY8O|     377048469|Skechers for Work...|           Shoes|          5|           71|         73|   N|                Y|best nonslip shoe...|I work in a resta...| 2015-08-31|\n",
            "+-----------+-----------+--------------+----------+--------------+--------------------+----------------+-----------+-------------+-----------+----+-----------------+--------------------+--------------------+-----------+\n",
            "only showing top 20 rows\n",
            "\n"
          ]
        }
      ]
    },
    {
      "cell_type": "code",
      "source": [
        "# Total number of reviews\n",
        "total_reviews = vine_df.count()\n",
        "total_reviews"
      ],
      "metadata": {
        "colab": {
          "base_uri": "https://localhost:8080/"
        },
        "id": "pKX7ORpt4L04",
        "outputId": "6aa85562-6422-4508-e683-492b42cc06f0"
      },
      "execution_count": null,
      "outputs": [
        {
          "output_type": "execute_result",
          "data": {
            "text/plain": [
              "26987"
            ]
          },
          "metadata": {},
          "execution_count": 33
        }
      ]
    },
    {
      "cell_type": "code",
      "source": [
        "# Number of 5-star reviews\n",
        "total_five_star = vine_df.filter(vine_df.star_rating == 5).count()\n",
        "\n",
        "total_five_star"
      ],
      "metadata": {
        "colab": {
          "base_uri": "https://localhost:8080/"
        },
        "id": "8X6ze-8E5I1q",
        "outputId": "baf83ef3-c9de-47e3-c0bc-48fb4085c2e0"
      },
      "execution_count": null,
      "outputs": [
        {
          "output_type": "execute_result",
          "data": {
            "text/plain": [
              "14475"
            ]
          },
          "metadata": {},
          "execution_count": 34
        }
      ]
    },
    {
      "cell_type": "code",
      "source": [
        "#  Number of paid 5-star reviews\n",
        "vine_five_star = paid_df.filter(paid_df.star_rating == 5).count()\n",
        "vine_total = paid_df.count()\n",
        "\n",
        "percent_paid_five_star = (vine_five_star / vine_total) * 100\n",
        "\n",
        "percent_paid_five_star"
      ],
      "metadata": {
        "colab": {
          "base_uri": "https://localhost:8080/"
        },
        "id": "kWlV0Ck46YXF",
        "outputId": "891824a6-393c-4151-f1a9-eb390a550c47"
      },
      "execution_count": null,
      "outputs": [
        {
          "output_type": "execute_result",
          "data": {
            "text/plain": [
              "59.09090909090909"
            ]
          },
          "metadata": {},
          "execution_count": 38
        }
      ]
    },
    {
      "cell_type": "code",
      "source": [
        "#  Number of unpaid 5-star reviews\n",
        "unpaid_five_star = unpaid_df.filter(unpaid_df.star_rating == 5).count()\n",
        "unpaid_total = unpaid_df.count()\n",
        "\n",
        "percent_unpaid_five_star = (unpaid_five_star / unpaid_total) * 100\n",
        "\n",
        "percent_unpaid_five_star"
      ],
      "metadata": {
        "colab": {
          "base_uri": "https://localhost:8080/"
        },
        "id": "skI7UV227rwB",
        "outputId": "aa07bab2-8cec-4244-f4a8-4cc9f4353db3"
      },
      "execution_count": null,
      "outputs": [
        {
          "output_type": "execute_result",
          "data": {
            "text/plain": [
              "53.63693630266425"
            ]
          },
          "metadata": {},
          "execution_count": 39
        }
      ]
    }
  ]
}